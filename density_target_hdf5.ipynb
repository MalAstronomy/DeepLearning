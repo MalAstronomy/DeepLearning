{
 "cells": [
  {
   "cell_type": "markdown",
   "metadata": {},
   "source": [
    "## Read the densities"
   ]
  },
  {
   "cell_type": "code",
   "execution_count": 5,
   "metadata": {},
   "outputs": [],
   "source": [
    "import os\n",
    "import numpy as np\n",
    "import csv\n",
    "import h5py\n",
    "import matplotlib.pyplot as plt\n",
    "import collections\n",
    "\n",
    "density_dict = collections.defaultdict(dict) # initialize empty dict of dicts \n",
    "for r in [12,15,19,23]: \n",
    "    for j in os.listdir('./datasets/density50/'+str(r)): \n",
    "        den=[]\n",
    "        with open('./datasets/density50/'+str(r)+'/'+str(j)) as csv_file:\n",
    "            csv_reader = csv.reader(csv_file, delimiter=',')\n",
    "            line_count = 0\n",
    "            for row in csv_reader:        \n",
    "                if line_count == 0:\n",
    "                    #print(f'Column names are {\", \".join(row)}')\n",
    "                    line_count += 1  \n",
    "                    continue\n",
    "                else: \n",
    "                    den= np.append(den,row)   #list of strings\n",
    "                line_count += 1  \n",
    "        Den=list(map(float,den))              #list of float values\n",
    "        density= np.reshape(Den,(50,50,50))\n",
    "        \n",
    "        i = int(j.split('.csv')[0])\n",
    "        density_dict[r][i] = density"
   ]
  },
  {
   "cell_type": "code",
   "execution_count": 6,
   "metadata": {},
   "outputs": [
    {
     "name": "stdout",
     "output_type": "stream",
     "text": [
      "(50, 50, 50)\n"
     ]
    },
    {
     "data": {
      "text/plain": [
       "<matplotlib.image.AxesImage at 0x7f82e80c3cd0>"
      ]
     },
     "execution_count": 6,
     "metadata": {},
     "output_type": "execute_result"
    },
    {
     "data": {
      "image/png": "[encoded data removed]",
      "text/plain": [
       "<Figure size 432x288 with 1 Axes>"
      ]
     },
     "metadata": {
      "needs_background": "light"
     },
     "output_type": "display_data"
    }
   ],
   "source": [
    "print(density.shape)\n",
    "plt.figure()\n",
    "plt.imshow(density_dict[12][0][:,:,20])"
   ]
  },
  {
   "cell_type": "markdown",
   "metadata": {},
   "source": [
    "## Read the target variables"
   ]
  },
  {
   "cell_type": "code",
   "execution_count": 8,
   "metadata": {},
   "outputs": [],
   "source": [
    "MR_dict = collections.defaultdict(dict) # initialize empty dict of dicts \n",
    "SR_dict = collections.defaultdict(dict)\n",
    "\n",
    "for r in [12,15,19,23]: \n",
    "    with open('./datasets/targets/'+str(r)+'/labels.csv') as csv_file:\n",
    "        csv_reader = list(csv.reader(csv_file, delimiter=','))\n",
    "        MR=np.asarray(csv_reader[1])\n",
    "        SR=np.asarray(csv_reader[3])\n",
    "        MR=MR.astype(np.float)\n",
    "        SR=SR.astype(np.float)\n",
    "        for k in density_dict[r].keys():\n",
    "            MR_dict[r][k] = MR[k]\n",
    "            SR_dict[r][k] = SR[k]\n",
    "    #             row_count= sum(1 for row_ in csv_reader)"
   ]
  },
  {
   "cell_type": "markdown",
   "metadata": {},
   "source": [
    "## Save in hdf5"
   ]
  },
  {
   "cell_type": "code",
   "execution_count": 15,
   "metadata": {},
   "outputs": [
    {
     "name": "stdout",
     "output_type": "stream",
     "text": [
      "/home/mquesnel/Courses/DeepLearning/datasets/merger_train_dens50.hdf5 created\n"
     ]
    }
   ],
   "source": [
    "path_to_dataset = \"/home/mquesnel/Courses/DeepLearning/datasets/\"\n",
    "filename = \"merger_train_dens50.hdf5\"\n",
    "with h5py.File(path_to_dataset+filename, 'w') as hdf:\n",
    "    print(\"{} created\".format(path_to_dataset+filename))\n",
    "    # Create groups in hdf5 file:\n",
    "    dens_grp = hdf.create_group('density')\n",
    "    ratio_grp = hdf.create_group('ratio')\n",
    "    # MR and SR are in subgroups of the target group:\n",
    "    mr_grp = ratio_grp.create_group('MR')\n",
    "    sr_grp = ratio_grp.create_group('SR')\n",
    "    \n",
    "    # Add attributs to the hdf5 main object:\n",
    "    hdf.attrs['nb_mergers'] = len(density_dict)\n",
    "\n",
    "    i = 0\n",
    "    for epoch in density_dict.keys():\n",
    "        for ind in density_dict[epoch].keys():\n",
    "            # Create and fill the datasets:\n",
    "            mr_grp.create_dataset(str(i), data = MR_dict[epoch][ind])\n",
    "            sr_grp.create_dataset(str(i), data = SR_dict[epoch][ind])\n",
    "\n",
    "            dens_grp.create_dataset(str(i), data = density_dict[epoch][ind])\n",
    "            \n",
    "            i+=1"
   ]
  },
  {
   "cell_type": "markdown",
   "metadata": {},
   "source": [
    "## Read hdf5"
   ]
  },
  {
   "cell_type": "code",
   "execution_count": 16,
   "metadata": {},
   "outputs": [],
   "source": [
    "density_out = {}\n",
    "MR_out = {}\n",
    "SR_out = {}\n",
    "with h5py.File(path_to_dataset+filename, 'r') as f:\n",
    "    for ind in range(76):\n",
    "        density_out[str(ind)] = np.array(f['density'][str(ind)])\n",
    "        MR_out[str(ind)] = np.array(f['ratio']['MR'][str(ind)])\n",
    "        SR_out[str(ind)] = np.array(f['ratio']['SR'][str(ind)])"
   ]
  },
  {
   "cell_type": "code",
   "execution_count": 17,
   "metadata": {},
   "outputs": [
    {
     "name": "stdout",
     "output_type": "stream",
     "text": [
      "0.18918921701943123\n",
      "0.08262109616010802\n"
     ]
    },
    {
     "data": {
      "text/plain": [
       "<matplotlib.image.AxesImage at 0x7f82e88e95b0>"
      ]
     },
     "execution_count": 17,
     "metadata": {},
     "output_type": "execute_result"
    },
    {
     "data": {
      "image/png": "[encoded data removed]",
      "text/plain": [
       "<Figure size 432x288 with 1 Axes>"
      ]
     },
     "metadata": {
      "needs_background": "light"
     },
     "output_type": "display_data"
    }
   ],
   "source": [
    "ind = 4\n",
    "print(MR_out[str(ind)])\n",
    "print(SR_out['0'])\n",
    "plt.figure()\n",
    "plt.imshow(density_out['0'][:,:,3])"
   ]
  },
  {
   "cell_type": "code",
   "execution_count": 58,
   "metadata": {},
   "outputs": [
    {
     "data": {
      "text/plain": [
       "0.23585322117042376"
      ]
     },
     "execution_count": 58,
     "metadata": {},
     "output_type": "execute_result"
    }
   ],
   "source": [
    "a = np.array([MR[0], MR[1]])\n",
    "a[1]"
   ]
  }
 ],
 "metadata": {
  "kernelspec": {
   "display_name": "Python 3",
   "language": "python",
   "name": "python3"
  },
  "language_info": {
   "codemirror_mode": {
    "name": "ipython",
    "version": 3
   },
   "file_extension": ".py",
   "mimetype": "text/x-python",
   "name": "python",
   "nbconvert_exporter": "python",
   "pygments_lexer": "ipython3",
   "version": "3.8.2"
  }
 },
 "nbformat": 4,
 "nbformat_minor": 4
}
