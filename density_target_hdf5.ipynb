{
 "cells": [
  {
   "cell_type": "markdown",
   "metadata": {},
   "source": [
    "## Read the densities"
   ]
  },
  {
   "cell_type": "code",
   "execution_count": 31,
   "metadata": {},
   "outputs": [
    {
     "name": "stdout",
     "output_type": "stream",
     "text": [
      "0.csv\n",
      "Column names are density\n",
      "1.csv\n",
      "Column names are density\n",
      "10.csv\n",
      "Column names are density\n",
      "64.csv\n",
      "Column names are density\n"
     ]
    }
   ],
   "source": [
    "import os\n",
    "import numpy as np\n",
    "import csv\n",
    "import h5py\n",
    "import matplotlib.pyplot as plt\n",
    "\n",
    "density_dict = {}\n",
    "#for r in [28,27,23,19,15,14]: \n",
    "for j in os.listdir('./datasets/Density_ex/'):#+str(r)): \n",
    "    den=[]\n",
    "    print(j)\n",
    "    with open('./datasets/Density_ex/'+str(j)) as csv_file:\n",
    "        csv_reader = csv.reader(csv_file, delimiter=',')\n",
    "        line_count = 0\n",
    "        for row in csv_reader:        \n",
    "            if line_count == 0:\n",
    "                print(f'Column names are {\", \".join(row)}')\n",
    "            else: \n",
    "                den= np.append(den,row)   #list of strings\n",
    "            line_count += 1  \n",
    "    Den=list(map(float,den))              #list of float values\n",
    "    density= np.reshape(Den,(50,50,50))\n",
    "    \n",
    "    density_dict[j] = density"
   ]
  },
  {
   "cell_type": "code",
   "execution_count": 48,
   "metadata": {},
   "outputs": [
    {
     "name": "stdout",
     "output_type": "stream",
     "text": [
      "(50, 50, 50)\n"
     ]
    },
    {
     "data": {
      "text/plain": [
       "<matplotlib.image.AxesImage at 0x7fc9bcba3130>"
      ]
     },
     "execution_count": 48,
     "metadata": {},
     "output_type": "execute_result"
    },
    {
     "data": {
      "image/png": "[encoded data removed]",
      "text/plain": [
       "<Figure size 432x288 with 1 Axes>"
      ]
     },
     "metadata": {
      "needs_background": "light"
     },
     "output_type": "display_data"
    }
   ],
   "source": [
    "print(density.shape)\n",
    "plt.figure()\n",
    "plt.imshow(density_dict[\"10.csv\"][:,:,3])"
   ]
  },
  {
   "cell_type": "markdown",
   "metadata": {},
   "source": [
    "## Read the target variables"
   ]
  },
  {
   "cell_type": "code",
   "execution_count": 33,
   "metadata": {},
   "outputs": [],
   "source": [
    "for i in [28]:#,23,19,15,14,12]: \n",
    "    with open('./datasets/labels/28/labels.csv') as csv_file:\n",
    "        csv_reader = list(csv.reader(csv_file, delimiter=','))\n",
    "        MR=np.asarray(csv_reader[1])\n",
    "        SR=np.asarray(csv_reader[3])\n",
    "        MR=MR.astype(np.float)\n",
    "        SR=SR.astype(np.float)\n",
    "#             row_count= sum(1 for row_ in csv_reader)"
   ]
  },
  {
   "cell_type": "code",
   "execution_count": 34,
   "metadata": {},
   "outputs": [
    {
     "name": "stdout",
     "output_type": "stream",
     "text": [
      "0.19301285865741952 0.23585322117042376 0.5122247915251208 0.808456690120803\n"
     ]
    }
   ],
   "source": [
    "print(MR[0], MR[1], MR[10], MR[64])"
   ]
  },
  {
   "cell_type": "code",
   "execution_count": 35,
   "metadata": {},
   "outputs": [],
   "source": [
    "MR_dict = {0: MR[0], \n",
    "           1: MR[1], \n",
    "           10: MR[10], \n",
    "           64: MR[64]}\n",
    "SR_dict = {0: SR[0], \n",
    "           1: SR[1], \n",
    "           10: SR[10], \n",
    "           64: SR[64]}"
   ]
  },
  {
   "cell_type": "markdown",
   "metadata": {},
   "source": [
    "## Save in hdf5"
   ]
  },
  {
   "cell_type": "code",
   "execution_count": 38,
   "metadata": {},
   "outputs": [
    {
     "name": "stdout",
     "output_type": "stream",
     "text": [
      "/home/mquesnel/Courses/DeepLearning/datasets/merger_train.hdf5 created\n"
     ]
    }
   ],
   "source": [
    "path_to_dataset = \"/home/mquesnel/Courses/DeepLearning/datasets/\"\n",
    "filename = \"merger_train.hdf5\"\n",
    "with h5py.File(path_to_dataset+filename, 'w') as hdf:\n",
    "    print(\"{} created\".format(path_to_dataset+filename))\n",
    "    # Create groups in hdf5 file:\n",
    "    dens_grp = hdf.create_group('density')\n",
    "    targ_grp = hdf.create_group('target')\n",
    "    # MR and SR are in subgroups of the target group:\n",
    "    mr_grp = targ_grp.create_group('MR')\n",
    "    sr_grp = targ_grp.create_group('SR')\n",
    "    \n",
    "    # Add attributs to the hdf5 main object:\n",
    "    hdf.attrs['nb_mergers'] = len(density_dict)\n",
    "\n",
    "    for ind in MR_dict.keys():\n",
    "        # Create and fill the datasets:\n",
    "        mr_grp.create_dataset(str(ind), data = MR_dict[i])\n",
    "        sr_grp.create_dataset(str(ind), data = SR_dict[i])\n",
    "\n",
    "        dens_grp.create_dataset(str(ind), data = density_dict[str(ind)+'.csv'])"
   ]
  },
  {
   "cell_type": "markdown",
   "metadata": {},
   "source": [
    "## Read hdf5"
   ]
  },
  {
   "cell_type": "code",
   "execution_count": 39,
   "metadata": {},
   "outputs": [],
   "source": [
    "density_out = {}\n",
    "MR_out = {}\n",
    "SR_out = {}\n",
    "with h5py.File(path_to_dataset+filename, 'r') as f:\n",
    "    for ind in MR_dict.keys():\n",
    "        density_out[str(ind)] = np.array(f['density'][str(ind)])\n",
    "        MR_out[str(ind)] = np.array(f['target']['MR'][str(ind)])\n",
    "        SR_out[str(ind)] = np.array(f['target']['SR'][str(ind)])"
   ]
  },
  {
   "cell_type": "code",
   "execution_count": 51,
   "metadata": {},
   "outputs": [
    {
     "name": "stdout",
     "output_type": "stream",
     "text": [
      "0.808456690120803\n",
      "0.500993960449912\n"
     ]
    },
    {
     "data": {
      "text/plain": [
       "<matplotlib.image.AxesImage at 0x7fc9bc67a0a0>"
      ]
     },
     "execution_count": 51,
     "metadata": {},
     "output_type": "execute_result"
    },
    {
     "data": {
      "image/png": "[encoded data removed]",
      "text/plain": [
       "<Figure size 432x288 with 1 Axes>"
      ]
     },
     "metadata": {
      "needs_background": "light"
     },
     "output_type": "display_data"
    }
   ],
   "source": [
    "print(MR_out[\"10\"])\n",
    "print(SR_out[\"10\"])\n",
    "plt.figure()\n",
    "plt.imshow(density_out[\"10\"][:,:,3])"
   ]
  }
 ],
 "metadata": {
  "kernelspec": {
   "display_name": "Python 3",
   "language": "python",
   "name": "python3"
  },
  "language_info": {
   "codemirror_mode": {
    "name": "ipython",
    "version": 3
   },
   "file_extension": ".py",
   "mimetype": "text/x-python",
   "name": "python",
   "nbconvert_exporter": "python",
   "pygments_lexer": "ipython3",
   "version": "3.8.2"
  }
 },
 "nbformat": 4,
 "nbformat_minor": 4
}
