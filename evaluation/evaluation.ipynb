{
 "cells": [
  {
   "cell_type": "code",
   "execution_count": 7,
   "metadata": {},
   "outputs": [],
   "source": [
    "# Global imports\n",
    "import sys, os\n",
    "import re\n",
    "import torch\n",
    "import torch.nn as nn\n",
    "import torch.nn.functional as F\n",
    "import torch.optim as optim\n",
    "from torchvision import transforms\n",
    "from collections import Counter, OrderedDict\n",
    "\n",
    "%matplotlib inline \n",
    "#%matplotlib widget\n",
    "\n",
    "import matplotlib.pyplot as plt\n",
    "from matplotlib.colors import PowerNorm\n",
    "from mpl_toolkits.axes_grid1 import make_axes_locatable\n",
    "#plt.style.use(['dark_background'])\n",
    "\n",
    "import numpy as np\n",
    "import json\n",
    "import collections\n",
    "from scipy import stats\n",
    "import random\n",
    "import math\n",
    "from datetime import datetime\n",
    "\n",
    "# Local import\n",
    "sys.path.insert(0, '../training/methods/')\n",
    "# Import the neural network architectures:\n",
    "from MLP import Net as MLP\n",
    "from CNN import Net as CNN\n",
    "\n",
    "sys.path.insert(0, '../training/src/')\n",
    "from dataset import merger_dataset, splitDataLoader, ToTensor, Normalize"
   ]
  },
  {
   "cell_type": "markdown",
   "metadata": {},
   "source": [
    "# User-defined parameters"
   ]
  },
  {
   "cell_type": "code",
   "execution_count": 8,
   "metadata": {},
   "outputs": [],
   "source": [
    "working_dir = \"/home/mquesnel/Courses/DeepLearning/\"\n",
    "path_to_models = working_dir+'models/'\n",
    "path_to_datasets = working_dir+\"/datasets/density_transformed/\"\n",
    "\n",
    "\n",
    "dl_arch = 'cnn'\n",
    "nb_layer = 2\n",
    "train_val_dataset_size = 1106#134\n",
    "optimizer_name =  \"Adam\" \n",
    "batch_size = 32 \n",
    "learning_rate = '1e-4' \n",
    "nb_epoch = 50\n",
    "metric = 'mse'\n",
    "split_train = '90'\n",
    "\n",
    "test_dataset_size = 90"
   ]
  },
  {
   "cell_type": "markdown",
   "metadata": {},
   "source": [
    "# Display the training and validation losses"
   ]
  },
  {
   "cell_type": "markdown",
   "metadata": {},
   "source": [
    "## Read the train/val losses"
   ]
  },
  {
   "cell_type": "code",
   "execution_count": 9,
   "metadata": {},
   "outputs": [],
   "source": [
    "if dl_arch == 'mlp':\n",
    "    layer_str = '_2hl_'\n",
    "elif dl_arch == 'cnn':\n",
    "    layer_str = '_3cv_'\n",
    "else:\n",
    "    raise ValueError(\"the model name specified is not valid\")\n",
    "\n",
    "model_name = 'model_'+str(train_val_dataset_size)+'cubes_no28_'+dl_arch+layer_str+'bs'+str(batch_size)+\\\n",
    "'_lr'+str(learning_rate)+'_'+str(nb_epoch)+'ep_opt'+str(optimizer_name)+'_split'+split_train+'_'+metric\n",
    "\n",
    "metrics_file = '../models/'+model_name+'/metrics.json'\n",
    "\n",
    "with open(metrics_file) as json_file:\n",
    "    data = json.load(json_file)"
   ]
  },
  {
   "cell_type": "markdown",
   "metadata": {},
   "source": [
    "## Plot the losses"
   ]
  },
  {
   "cell_type": "code",
   "execution_count": 10,
   "metadata": {},
   "outputs": [
    {
     "data": {
      "image/png": "[encoded data removed]",
      "text/plain": [
       "<Figure size 504x360 with 1 Axes>"
      ]
     },
     "metadata": {
      "needs_background": "light"
     },
     "output_type": "display_data"
    }
   ],
   "source": [
    "fig = plt.figure(1, figsize=(7,5))\n",
    "plt.plot(data['train_loss'], label='training')\n",
    "plt.plot(data['val_loss'], label='validation')\n",
    "plt.xlabel('epoch')\n",
    "plt.ylabel('loss')\n",
    "plt.legend(loc=\"upper right\")\n",
    "plt.grid(linewidth=0.4)"
   ]
  },
  {
   "cell_type": "code",
   "execution_count": 11,
   "metadata": {},
   "outputs": [
    {
     "name": "stdout",
     "output_type": "stream",
     "text": [
      "0.05790654726363906\n",
      "0.062332179871472444\n"
     ]
    }
   ],
   "source": [
    "print(np.min(data['train_loss']))\n",
    "print(np.min(data['val_loss']))"
   ]
  },
  {
   "cell_type": "markdown",
   "metadata": {},
   "source": [
    "# Load the model"
   ]
  },
  {
   "cell_type": "code",
   "execution_count": 13,
   "metadata": {},
   "outputs": [
    {
     "ename": "AssertionError",
     "evalue": "/home/mquesnel/Courses/DeepLearning/models/model_1106cubes_cnn_3cv_bs32_lr1e-4_50ep_optAdam_split90_mse/model.pth does not exist",
     "output_type": "error",
     "traceback": [
      "\u001b[0;31m---------------------------------------------------------------------------\u001b[0m",
      "\u001b[0;31mAssertionError\u001b[0m                            Traceback (most recent call last)",
      "\u001b[0;32m<ipython-input-13-ceb0193bd72b>\u001b[0m in \u001b[0;36m<module>\u001b[0;34m\u001b[0m\n\u001b[1;32m     12\u001b[0m     \u001b[0mstr\u001b[0m\u001b[0;34m(\u001b[0m\u001b[0mlearning_rate\u001b[0m\u001b[0;34m)\u001b[0m\u001b[0;34m+\u001b[0m\u001b[0;34m'_'\u001b[0m\u001b[0;34m+\u001b[0m\u001b[0mstr\u001b[0m\u001b[0;34m(\u001b[0m\u001b[0mnb_epoch\u001b[0m\u001b[0;34m)\u001b[0m\u001b[0;34m+\u001b[0m\u001b[0;34m'ep_opt'\u001b[0m\u001b[0;34m+\u001b[0m\u001b[0mstr\u001b[0m\u001b[0;34m(\u001b[0m\u001b[0moptimizer_name\u001b[0m\u001b[0;34m)\u001b[0m\u001b[0;34m+\u001b[0m\u001b[0;34m'_split'\u001b[0m\u001b[0;34m+\u001b[0m\u001b[0msplit_train\u001b[0m\u001b[0;34m+\u001b[0m\u001b[0;34m'_'\u001b[0m\u001b[0;34m+\u001b[0m\u001b[0mmetric\u001b[0m\u001b[0;34m+\u001b[0m\u001b[0;34m'/model.pth'\u001b[0m\u001b[0;34m\u001b[0m\u001b[0;34m\u001b[0m\u001b[0m\n\u001b[1;32m     13\u001b[0m \u001b[0;34m\u001b[0m\u001b[0m\n\u001b[0;32m---> 14\u001b[0;31m \u001b[0;32massert\u001b[0m \u001b[0mos\u001b[0m\u001b[0;34m.\u001b[0m\u001b[0mpath\u001b[0m\u001b[0;34m.\u001b[0m\u001b[0misfile\u001b[0m\u001b[0;34m(\u001b[0m\u001b[0mmodel_file\u001b[0m\u001b[0;34m)\u001b[0m\u001b[0;34m,\u001b[0m \u001b[0;34m\"{} does not exist\"\u001b[0m\u001b[0;34m.\u001b[0m\u001b[0mformat\u001b[0m\u001b[0;34m(\u001b[0m\u001b[0mmodel_file\u001b[0m\u001b[0;34m)\u001b[0m\u001b[0;34m\u001b[0m\u001b[0;34m\u001b[0m\u001b[0m\n\u001b[0m\u001b[1;32m     15\u001b[0m \u001b[0mprint\u001b[0m\u001b[0;34m(\u001b[0m\u001b[0;34m\"Model file name: {}\\n\"\u001b[0m\u001b[0;34m.\u001b[0m\u001b[0mformat\u001b[0m\u001b[0;34m(\u001b[0m\u001b[0mmodel_file\u001b[0m\u001b[0;34m)\u001b[0m\u001b[0;34m)\u001b[0m\u001b[0;34m\u001b[0m\u001b[0;34m\u001b[0m\u001b[0m\n\u001b[1;32m     16\u001b[0m \u001b[0;34m\u001b[0m\u001b[0m\n",
      "\u001b[0;31mAssertionError\u001b[0m: /home/mquesnel/Courses/DeepLearning/models/model_1106cubes_cnn_3cv_bs32_lr1e-4_50ep_optAdam_split90_mse/model.pth does not exist"
     ]
    }
   ],
   "source": [
    "# Load model architecture:\n",
    "if dl_arch == 'mlp':\n",
    "    model = MLP(70**3, 2)\n",
    "    layer_str = '_2hl_'\n",
    "elif dl_arch == 'cnn':\n",
    "    model = CNN(1, 2)\n",
    "    layer_str = '_3cv_'\n",
    "else:\n",
    "    raise ValueError(\"the model name specified is not valid\")\n",
    "\n",
    "model_file = path_to_models+'model_'+str(train_val_dataset_size)+'cubes_'+dl_arch+layer_str+'bs'+str(batch_size)+'_lr'+\\\n",
    "    str(learning_rate)+'_'+str(nb_epoch)+'ep_opt'+str(optimizer_name)+'_split'+split_train+'_'+metric+'/model.pth'\n",
    "\n",
    "assert os.path.isfile(model_file), \"{} does not exist\".format(model_file)\n",
    "print(\"Model file name: {}\\n\".format(model_file))\n",
    "\n",
    "state_dict = torch.load(model_file, map_location='cpu')\n",
    "\n",
    "new_state_dict = OrderedDict()\n",
    "\n",
    "model.load_state_dict(state_dict)"
   ]
  },
  {
   "cell_type": "markdown",
   "metadata": {},
   "source": [
    "# Create the dataset object"
   ]
  },
  {
   "cell_type": "markdown",
   "metadata": {},
   "source": [
    "We apply the same transformations to the test dataset than to the training/validation set"
   ]
  },
  {
   "cell_type": "code",
   "execution_count": null,
   "metadata": {},
   "outputs": [],
   "source": [
    "# Define name of the hdf5 file containing the test data:\n",
    "test_file = path_to_datasets+\"merger_test_\"+str(test_dataset_size)+\"cubes_no28.h5\"\n",
    "\n",
    "assert os.path.isfile(test_file), \"{} does not exist\".format(test_file)\n",
    "print(\"Test dataset filename: {}\".format(test_file))  \n",
    "\n",
    "transfo = transforms.Compose([Normalize(), ToTensor()])\n",
    "\n",
    "# Create the dataset object:xc\n",
    "test_dataset = merger_dataset(path_to_file = test_file, \n",
    "                          size = test_dataset_size,\n",
    "                          transform = transfo)"
   ]
  },
  {
   "cell_type": "markdown",
   "metadata": {},
   "source": [
    "# Perform predictions"
   ]
  },
  {
   "cell_type": "code",
   "execution_count": null,
   "metadata": {},
   "outputs": [],
   "source": [
    "prediction_list = []\n",
    "ratio_list = []\n",
    "rmse_list = []\n",
    "for id in range(test_dataset_size):\n",
    "    \n",
    "    sample = test_dataset[id]\n",
    "\n",
    "    ratio = sample['target'].numpy()\n",
    "    density = sample['input'].unsqueeze(0)\n",
    "\n",
    "    prediction = model(density).detach().numpy()[0]\n",
    "    \n",
    "    prediction_list.append(prediction)\n",
    "    ratio_list.append(ratio)"
   ]
  },
  {
   "cell_type": "code",
   "execution_count": null,
   "metadata": {},
   "outputs": [],
   "source": [
    "for i in range(test_dataset_size):\n",
    "    print(\"id={}\".format(i))\n",
    "    print(prediction_list[i])\n",
    "    print(ratio_list[i])\n",
    "    print()"
   ]
  },
  {
   "cell_type": "markdown",
   "metadata": {},
   "source": [
    "# Evaluation metrics"
   ]
  },
  {
   "cell_type": "code",
   "execution_count": null,
   "metadata": {},
   "outputs": [],
   "source": [
    "pred = np.array(prediction_list)\n",
    "truth = np.array(ratio_list)"
   ]
  },
  {
   "cell_type": "markdown",
   "metadata": {},
   "source": [
    "### Compute the MSE"
   ]
  },
  {
   "cell_type": "code",
   "execution_count": null,
   "metadata": {},
   "outputs": [],
   "source": [
    "mse = np.mean((pred - truth)**2)\n",
    "print(mse)"
   ]
  },
  {
   "cell_type": "markdown",
   "metadata": {},
   "source": [
    "### Compute the RMSE"
   ]
  },
  {
   "cell_type": "code",
   "execution_count": null,
   "metadata": {},
   "outputs": [],
   "source": [
    "rmse = np.sqrt(np.mean((pred - truth)**2))\n",
    "print(rmse)"
   ]
  },
  {
   "cell_type": "markdown",
   "metadata": {},
   "source": [
    "### Compute the MAE"
   ]
  },
  {
   "cell_type": "code",
   "execution_count": null,
   "metadata": {},
   "outputs": [],
   "source": [
    "mae = np.mean(np.abs(pred - truth))\n",
    "print(mae)"
   ]
  }
 ],
 "metadata": {
  "kernelspec": {
   "display_name": "Python 3",
   "language": "python",
   "name": "python3"
  },
  "language_info": {
   "codemirror_mode": {
    "name": "ipython",
    "version": 3
   },
   "file_extension": ".py",
   "mimetype": "text/x-python",
   "name": "python",
   "nbconvert_exporter": "python",
   "pygments_lexer": "ipython3",
   "version": "3.7.4"
  }
 },
 "nbformat": 4,
 "nbformat_minor": 4
}
