{
 "cells": [
  {
   "cell_type": "code",
   "execution_count": 39,
   "metadata": {},
   "outputs": [],
   "source": [
    "# Global imports\n",
    "import sys, os\n",
    "import re\n",
    "import torch\n",
    "import torch.nn as nn\n",
    "import torch.nn.functional as F\n",
    "import torch.optim as optim\n",
    "from torchvision import transforms\n",
    "from collections import Counter, OrderedDict\n",
    "\n",
    "%matplotlib inline \n",
    "#%matplotlib widget\n",
    "\n",
    "import matplotlib.pyplot as plt\n",
    "from matplotlib.colors import PowerNorm\n",
    "from mpl_toolkits.axes_grid1 import make_axes_locatable\n",
    "#plt.style.use(['dark_background'])\n",
    "\n",
    "import numpy as np\n",
    "import json\n",
    "import collections\n",
    "from scipy import stats\n",
    "import random\n",
    "import math\n",
    "from datetime import datetime\n",
    "\n",
    "# Local import\n",
    "sys.path.insert(0, '../training/methods/')\n",
    "# Import the neural network architectures:\n",
    "from MLP import Net as MLP\n",
    "from CNN import Net as CNN\n",
    "\n",
    "sys.path.insert(0, '../training/src/')\n",
    "from dataset import merger_dataset, splitDataLoader, ToTensor, Normalize"
   ]
  },
  {
   "cell_type": "code",
   "execution_count": 40,
   "metadata": {},
   "outputs": [
    {
     "data": {
      "text/plain": [
       "'/home/mvvasist/EagleMergers/DeepLearning/evaluation'"
      ]
     },
     "execution_count": 40,
     "metadata": {},
     "output_type": "execute_result"
    }
   ],
   "source": [
    "pwd"
   ]
  },
  {
   "cell_type": "markdown",
   "metadata": {},
   "source": [
    "# User-defined parameters"
   ]
  },
  {
   "cell_type": "code",
   "execution_count": 41,
   "metadata": {},
   "outputs": [],
   "source": [
    "working_dir = \"/home/mvvasist/EagleMergers/\"\n",
    "path_to_models = working_dir+'models/'\n",
    "path_to_datasets = working_dir+\"data/\"\n",
    "\n",
    "dl_arch='mlp'  #'cnn'\n",
    "nb_layer = 2\n",
    "train_val_dataset_size = 1280\n",
    "output_dim = 2\n",
    "optimizer_name =  'SGD' #\"Adam\" \n",
    "batch_size = 32 \n",
    "learning_rate = '1e-4' \n",
    "nb_epoch = 50\n",
    "metric = 'rmse'\n",
    "split_train = '90'\n",
    "\n",
    "test_dataset_size = 105"
   ]
  },
  {
   "cell_type": "markdown",
   "metadata": {},
   "source": [
    "# Display the training and validation losses"
   ]
  },
  {
   "cell_type": "markdown",
   "metadata": {},
   "source": [
    "## Read the train/val losses"
   ]
  },
  {
   "cell_type": "code",
   "execution_count": 42,
   "metadata": {},
   "outputs": [
    {
     "name": "stdout",
     "output_type": "stream",
     "text": [
      "model_1280cubes_2targ_mlp_2hl_bs32_lr1e-4_50ep_optSGD_split90_rmse_relu1_final_w300\n"
     ]
    }
   ],
   "source": [
    "if dl_arch == 'mlp':\n",
    "    layer_str = '_2hl_'\n",
    "elif dl_arch == 'cnn':\n",
    "    layer_str = '_3cv_'\n",
    "else:\n",
    "    raise ValueError(\"the model name specified is not valid\")\n",
    "\n",
    "model_name = 'model_'+str(train_val_dataset_size)+'cubes_'+str(output_dim)+'targ_'+dl_arch+layer_str+'bs'+str(batch_size)+\\\n",
    "'_lr'+str(learning_rate)+'_'+str(nb_epoch)+'ep_opt'+str(optimizer_name)+'_split'+split_train+'_'+metric+'_relu1_final_w300'\n",
    "\n",
    "print(model_name)\n",
    "#model_1280cubes_2targ_mlp_2hl_bs32_lr1e-4_50ep_optSGD_split90_rmse_relu1_final_w300\n",
    "\n",
    "\n",
    "metrics_file = path_to_models+model_name+'/metrics.json'\n",
    "\n",
    "with open(metrics_file) as json_file:\n",
    "    data = json.load(json_file)"
   ]
  },
  {
   "cell_type": "markdown",
   "metadata": {},
   "source": [
    "## Plot the losses"
   ]
  },
  {
   "cell_type": "code",
   "execution_count": 43,
   "metadata": {},
   "outputs": [
    {
     "data": {
      "image/png": "[encoded data removed]",
      "text/plain": [
       "<Figure size 504x360 with 1 Axes>"
      ]
     },
     "metadata": {
      "needs_background": "light"
     },
     "output_type": "display_data"
    }
   ],
   "source": [
    "fig = plt.figure(1, figsize=(7,5))\n",
    "plt.plot(data['train_loss'], label='training')\n",
    "plt.plot(data['val_loss'], label='validation')\n",
    "plt.xlabel('epoch')\n",
    "plt.ylabel('loss')\n",
    "plt.legend(loc=\"upper right\")\n",
    "plt.grid(linewidth=0.4)\n",
    "\n",
    "#fig.savefig(\"train_val_loss_\"+model_name+\".png\")"
   ]
  },
  {
   "cell_type": "code",
   "execution_count": 44,
   "metadata": {},
   "outputs": [
    {
     "name": "stdout",
     "output_type": "stream",
     "text": [
      "0.27835011458955705\n",
      "0.2760324410096867\n"
     ]
    }
   ],
   "source": [
    "print(np.min(data['train_loss']))\n",
    "print(np.min(data['val_loss']))"
   ]
  },
  {
   "cell_type": "markdown",
   "metadata": {},
   "source": [
    "# Load the model"
   ]
  },
  {
   "cell_type": "code",
   "execution_count": 45,
   "metadata": {},
   "outputs": [
    {
     "name": "stdout",
     "output_type": "stream",
     "text": [
      "Model file name: /home/mvvasist/EagleMergers/models/model_1280cubes_2targ_mlp_2hl_bs32_lr1e-4_50ep_optSGD_split90_rmse_relu1_final_w300/model.pth\n",
      "\n"
     ]
    },
    {
     "data": {
      "text/plain": [
       "<All keys matched successfully>"
      ]
     },
     "execution_count": 45,
     "metadata": {},
     "output_type": "execute_result"
    }
   ],
   "source": [
    "# Load model architecture:\n",
    "if dl_arch == 'mlp':\n",
    "    model = MLP(70**3, output_dim).eval()\n",
    "    layer_str = '_2hl_'\n",
    "elif dl_arch == 'cnn':\n",
    "    model = CNN(1, output_dim).eval()\n",
    "    layer_str = '_3cv_'\n",
    "else:\n",
    "    raise ValueError(\"the model name specified is not valid\")\n",
    "\n",
    "model_file = path_to_models+model_name+'/model.pth'\n",
    "\n",
    "assert os.path.isfile(model_file), \"{} does not exist\".format(model_file)\n",
    "print(\"Model file name: {}\\n\".format(model_file))\n",
    "\n",
    "state_dict = torch.load(model_file, map_location='cpu')\n",
    "\n",
    "new_state_dict = OrderedDict()\n",
    "\n",
    "model.load_state_dict(state_dict)"
   ]
  },
  {
   "cell_type": "markdown",
   "metadata": {},
   "source": [
    "# Create the dataset object"
   ]
  },
  {
   "cell_type": "markdown",
   "metadata": {},
   "source": [
    "We apply the same transformations to the test dataset than to the training/validation set"
   ]
  },
  {
   "cell_type": "code",
   "execution_count": 50,
   "metadata": {},
   "outputs": [
    {
     "data": {
      "text/plain": [
       "['merger_test_105cubes_with28.h5', 'merger_test_90cubes_no28.h5']"
      ]
     },
     "execution_count": 50,
     "metadata": {},
     "output_type": "execute_result"
    }
   ],
   "source": [
    "os.listdir('/home/mvvasist/EagleMergers/data/Test Datasets/')"
   ]
  },
  {
   "cell_type": "code",
   "execution_count": 52,
   "metadata": {},
   "outputs": [
    {
     "name": "stdout",
     "output_type": "stream",
     "text": [
      "Test dataset filename: /home/mvvasist/EagleMergers/data/Test Datasets/merger_test_105cubes_with28.h5\n"
     ]
    }
   ],
   "source": [
    "# Define name of the hdf5 file containing the test data:\n",
    "test_file = path_to_datasets + 'Test Datasets/' +\"merger_test_\"+str(test_dataset_size)+\"cubes_\"+\"with28.h5\"\n",
    "\n",
    "assert os.path.isfile(test_file), \"{} does not exist\".format(test_file)\n",
    "print(\"Test dataset filename: {}\".format(test_file))  \n",
    "\n",
    "transfo = transforms.Compose([Normalize(), ToTensor()])\n",
    "\n",
    "# Create the dataset object:xc\n",
    "test_dataset = merger_dataset(path_to_file = test_file, \n",
    "                          size = test_dataset_size,\n",
    "                          transform = transfo)\n",
    "\n",
    "#/home/mvvasist/EagleMergers/data/Test Datasets/merger_test_105cubes_with28.h5"
   ]
  },
  {
   "cell_type": "markdown",
   "metadata": {},
   "source": [
    "# Perform predictions"
   ]
  },
  {
   "cell_type": "code",
   "execution_count": 53,
   "metadata": {},
   "outputs": [],
   "source": [
    "prediction_list = []\n",
    "ratio_list = []\n",
    "rmse_list = []\n",
    "for id in range(test_dataset_size):\n",
    "    \n",
    "    sample = test_dataset[id]\n",
    "\n",
    "    ratio = sample['target'].numpy()\n",
    "    if output_dim == 1:\n",
    "        ratio = ratio[0]\n",
    "    density = sample['input'].unsqueeze(0)\n",
    "\n",
    "    prediction = model(density).detach().numpy()[0]\n",
    "    \n",
    "    prediction_list.append(prediction)\n",
    "    ratio_list.append(ratio)"
   ]
  },
  {
   "cell_type": "code",
   "execution_count": 62,
   "metadata": {},
   "outputs": [
    {
     "name": "stdout",
     "output_type": "stream",
     "text": [
      "0.40254238\n"
     ]
    }
   ],
   "source": [
    "print(ratio[0])"
   ]
  },
  {
   "cell_type": "code",
   "execution_count": 74,
   "metadata": {},
   "outputs": [],
   "source": [
    "def percentage(v,p):\n",
    "    return v + (np.multiply(p,v))\n",
    "    \n",
    "p= 0.5\n",
    "N= len(ratio_list)\n",
    "mr= 0\n",
    "sr=0\n",
    "\n",
    "for i in range(test_dataset_size): \n",
    "#     print(prediction_list[i][0], ratio_list[i][0], percentage(ratio_list[i][0], -p), percentage(ratio_list[i][0], p))\n",
    "    if ((prediction_list[i][0] >= percentage(ratio_list[i][0], -p)) & (prediction_list[i][0] <= percentage(ratio_list[i][0], p))):\n",
    "#         print(prediction_list[i][0], ratio_list[i][0], percentage(ratio_list[i][0], -p), percentage(ratio_list[i][0], p))\n",
    "        mr+=1\n",
    "    if ((prediction_list[i][1] >= percentage(ratio_list[i][1], -p)) & (prediction_list[i][1] <= percentage(ratio_list[i][1], p))):\n",
    "        sr+=1\n",
    "        \n",
    "mr_p= mr/N\n",
    "sr_p= sr/N\n",
    "        \n",
    "    \n"
   ]
  },
  {
   "cell_type": "code",
   "execution_count": 75,
   "metadata": {},
   "outputs": [
    {
     "data": {
      "text/plain": [
       "0.4"
      ]
     },
     "execution_count": 75,
     "metadata": {},
     "output_type": "execute_result"
    }
   ],
   "source": [
    "mr_p"
   ]
  },
  {
   "cell_type": "code",
   "execution_count": 76,
   "metadata": {},
   "outputs": [
    {
     "data": {
      "text/plain": [
       "0.7238095238095238"
      ]
     },
     "execution_count": 76,
     "metadata": {},
     "output_type": "execute_result"
    }
   ],
   "source": [
    "sr_p"
   ]
  },
  {
   "cell_type": "code",
   "execution_count": 60,
   "metadata": {},
   "outputs": [],
   "source": [
    "# for i in range(test_dataset_size):\n",
    "#     print(\"id={}\".format(i))\n",
    "#     print(\"prediction:\")\n",
    "#     print(prediction_list[i])\n",
    "#     print(\"true ratio:\")\n",
    "#     print(ratio_list[i])\n",
    "#     print()"
   ]
  },
  {
   "cell_type": "code",
   "execution_count": null,
   "metadata": {},
   "outputs": [],
   "source": []
  },
  {
   "cell_type": "markdown",
   "metadata": {},
   "source": [
    "# Evaluation metrics"
   ]
  },
  {
   "cell_type": "code",
   "execution_count": 56,
   "metadata": {},
   "outputs": [],
   "source": [
    "pred = np.array(prediction_list)\n",
    "truth = np.array(ratio_list)"
   ]
  },
  {
   "cell_type": "markdown",
   "metadata": {},
   "source": [
    "### Compute the MSE"
   ]
  },
  {
   "cell_type": "code",
   "execution_count": 57,
   "metadata": {},
   "outputs": [
    {
     "name": "stdout",
     "output_type": "stream",
     "text": [
      "0.09932384\n"
     ]
    }
   ],
   "source": [
    "mse = np.mean((pred - truth)**2)\n",
    "print(mse)"
   ]
  },
  {
   "cell_type": "markdown",
   "metadata": {},
   "source": [
    "### Compute the RMSE"
   ]
  },
  {
   "cell_type": "code",
   "execution_count": 58,
   "metadata": {},
   "outputs": [
    {
     "name": "stdout",
     "output_type": "stream",
     "text": [
      "0.31515685\n"
     ]
    }
   ],
   "source": [
    "rmse = np.sqrt(np.mean((pred - truth)**2))\n",
    "print(rmse)"
   ]
  },
  {
   "cell_type": "markdown",
   "metadata": {},
   "source": [
    "### Compute the MAE"
   ]
  },
  {
   "cell_type": "code",
   "execution_count": 59,
   "metadata": {},
   "outputs": [
    {
     "name": "stdout",
     "output_type": "stream",
     "text": [
      "0.27713647\n"
     ]
    }
   ],
   "source": [
    "mae = np.mean(np.abs(pred - truth))\n",
    "print(mae)"
   ]
  },
  {
   "cell_type": "code",
   "execution_count": null,
   "metadata": {},
   "outputs": [],
   "source": []
  },
  {
   "cell_type": "code",
   "execution_count": null,
   "metadata": {},
   "outputs": [],
   "source": []
  }
 ],
 "metadata": {
  "kernelspec": {
   "display_name": "Python 3",
   "language": "python",
   "name": "python3"
  },
  "language_info": {
   "codemirror_mode": {
    "name": "ipython",
    "version": 3
   },
   "file_extension": ".py",
   "mimetype": "text/x-python",
   "name": "python",
   "nbconvert_exporter": "python",
   "pygments_lexer": "ipython3",
   "version": "3.7.5"
  }
 },
 "nbformat": 4,
 "nbformat_minor": 4
}
