{
 "cells": [
  {
   "cell_type": "code",
   "execution_count": 46,
   "metadata": {},
   "outputs": [],
   "source": [
    "# Global imports\n",
    "import sys, os\n",
    "import re\n",
    "import torch\n",
    "import torch.nn as nn\n",
    "import torch.nn.functional as F\n",
    "import torch.optim as optim\n",
    "from torchvision import transforms\n",
    "from collections import Counter, OrderedDict\n",
    "\n",
    "%matplotlib inline \n",
    "#%matplotlib widget\n",
    "\n",
    "import matplotlib.pyplot as plt\n",
    "from matplotlib.colors import PowerNorm\n",
    "from mpl_toolkits.axes_grid1 import make_axes_locatable\n",
    "#plt.style.use(['dark_background'])\n",
    "\n",
    "import numpy as np\n",
    "import json\n",
    "import collections\n",
    "from scipy import stats\n",
    "import random\n",
    "import math\n",
    "from datetime import datetime\n",
    "\n",
    "# Local import\n",
    "sys.path.insert(0, '../training/methods/')\n",
    "# Import the neural network architectures:\n",
    "from MLP import Net as MLP\n",
    "from CNN import Net as CNN\n",
    "\n",
    "sys.path.insert(0, '../training/src/')\n",
    "from dataset import merger_dataset, splitDataLoader, ToTensor, Normalize"
   ]
  },
  {
   "cell_type": "markdown",
   "metadata": {},
   "source": [
    "# User-defined parameters"
   ]
  },
  {
   "cell_type": "code",
   "execution_count": 47,
   "metadata": {},
   "outputs": [],
   "source": [
    "working_dir = \"/home/mquesnel/Courses/DeepLearning/\"\n",
    "path_to_models = working_dir+'models/'\n",
    "path_to_datasets = working_dir+\"/datasets/density_transformed/\"\n",
    "\n",
    "\n",
    "dl_arch = 'cnn'\n",
    "nb_layer = 2\n",
    "train_val_dataset_size = 1280#134\n",
    "output_dim = 1\n",
    "optimizer_name =  \"Adam\" \n",
    "batch_size = 32 \n",
    "learning_rate = '1e-4' \n",
    "nb_epoch = 100\n",
    "metric = 'mse'\n",
    "split_train = '90'\n",
    "\n",
    "test_dataset_size = 90"
   ]
  },
  {
   "cell_type": "markdown",
   "metadata": {},
   "source": [
    "# Display the training and validation losses"
   ]
  },
  {
   "cell_type": "markdown",
   "metadata": {},
   "source": [
    "## Read the train/val losses"
   ]
  },
  {
   "cell_type": "code",
   "execution_count": 48,
   "metadata": {},
   "outputs": [],
   "source": [
    "if dl_arch == 'mlp':\n",
    "    layer_str = '_2hl_'\n",
    "elif dl_arch == 'cnn':\n",
    "    layer_str = '_3cv_'\n",
    "else:\n",
    "    raise ValueError(\"the model name specified is not valid\")\n",
    "\n",
    "model_name = 'model_'+str(train_val_dataset_size)+'cubes_with28_'+str(output_dim)+'targ_'+dl_arch+layer_str+'bs'+str(batch_size)+\\\n",
    "'_lr'+str(learning_rate)+'_'+str(nb_epoch)+'ep_opt'+str(optimizer_name)+'_split'+split_train+'_'+metric#+'_SELU'\n",
    "\n",
    "metrics_file = path_to_models+model_name+'/metrics.json'\n",
    "\n",
    "with open(metrics_file) as json_file:\n",
    "    data = json.load(json_file)"
   ]
  },
  {
   "cell_type": "markdown",
   "metadata": {},
   "source": [
    "## Plot the losses"
   ]
  },
  {
   "cell_type": "code",
   "execution_count": 49,
   "metadata": {},
   "outputs": [
    {
     "data": {
      "image/png": "[encoded data removed]",
      "text/plain": [
       "<Figure size 504x360 with 1 Axes>"
      ]
     },
     "metadata": {
      "needs_background": "light"
     },
     "output_type": "display_data"
    }
   ],
   "source": [
    "fig = plt.figure(1, figsize=(7,5))\n",
    "plt.plot(data['train_loss'], label='training')\n",
    "plt.plot(data['val_loss'], label='validation')\n",
    "plt.xlabel('epoch')\n",
    "plt.ylabel('loss')\n",
    "plt.legend(loc=\"upper right\")\n",
    "plt.grid(linewidth=0.4)"
   ]
  },
  {
   "cell_type": "code",
   "execution_count": 50,
   "metadata": {},
   "outputs": [
    {
     "name": "stdout",
     "output_type": "stream",
     "text": [
      "0.06804626135918726\n",
      "0.06638937191231044\n"
     ]
    }
   ],
   "source": [
    "print(np.min(data['train_loss']))\n",
    "print(np.min(data['val_loss']))"
   ]
  },
  {
   "cell_type": "markdown",
   "metadata": {},
   "source": [
    "# Load the model"
   ]
  },
  {
   "cell_type": "code",
   "execution_count": 51,
   "metadata": {},
   "outputs": [
    {
     "name": "stdout",
     "output_type": "stream",
     "text": [
      "Model file name: /home/mquesnel/Courses/DeepLearning/models/model_1280cubes_with28_1targ_cnn_3cv_bs32_lr1e-4_100ep_optAdam_split90_mse/model.pth\n",
      "\n"
     ]
    },
    {
     "data": {
      "text/plain": [
       "<All keys matched successfully>"
      ]
     },
     "execution_count": 51,
     "metadata": {},
     "output_type": "execute_result"
    }
   ],
   "source": [
    "# Load model architecture:\n",
    "if dl_arch == 'mlp':\n",
    "    model = MLP(70**3, output_dim)\n",
    "    layer_str = '_2hl_'\n",
    "elif dl_arch == 'cnn':\n",
    "    model = CNN(1, output_dim)\n",
    "    layer_str = '_3cv_'\n",
    "else:\n",
    "    raise ValueError(\"the model name specified is not valid\")\n",
    "\n",
    "model_file = path_to_models+model_name+'/model.pth'\n",
    "\n",
    "assert os.path.isfile(model_file), \"{} does not exist\".format(model_file)\n",
    "print(\"Model file name: {}\\n\".format(model_file))\n",
    "\n",
    "state_dict = torch.load(model_file, map_location='cpu')\n",
    "\n",
    "new_state_dict = OrderedDict()\n",
    "\n",
    "model.load_state_dict(state_dict)"
   ]
  },
  {
   "cell_type": "markdown",
   "metadata": {},
   "source": [
    "# Create the dataset object"
   ]
  },
  {
   "cell_type": "markdown",
   "metadata": {},
   "source": [
    "We apply the same transformations to the test dataset than to the training/validation set"
   ]
  },
  {
   "cell_type": "code",
   "execution_count": 52,
   "metadata": {},
   "outputs": [
    {
     "name": "stdout",
     "output_type": "stream",
     "text": [
      "Test dataset filename: /home/mquesnel/Courses/DeepLearning//datasets/density_transformed/merger_test_90cubes_no28.h5\n"
     ]
    }
   ],
   "source": [
    "# Define name of the hdf5 file containing the test data:\n",
    "test_file = path_to_datasets+\"merger_test_\"+str(test_dataset_size)+\"cubes_no28.h5\"\n",
    "\n",
    "assert os.path.isfile(test_file), \"{} does not exist\".format(test_file)\n",
    "print(\"Test dataset filename: {}\".format(test_file))  \n",
    "\n",
    "transfo = transforms.Compose([Normalize(), ToTensor()])\n",
    "\n",
    "# Create the dataset object:xc\n",
    "test_dataset = merger_dataset(path_to_file = test_file, \n",
    "                          size = test_dataset_size,\n",
    "                          transform = transfo)"
   ]
  },
  {
   "cell_type": "markdown",
   "metadata": {},
   "source": [
    "# Perform predictions"
   ]
  },
  {
   "cell_type": "code",
   "execution_count": 53,
   "metadata": {},
   "outputs": [],
   "source": [
    "prediction_list = []\n",
    "ratio_list = []\n",
    "rmse_list = []\n",
    "for id in range(test_dataset_size):\n",
    "    \n",
    "    sample = test_dataset[id]\n",
    "\n",
    "    ratio = sample['target'].numpy()\n",
    "    if output_dim == 1:\n",
    "        ratio = ratio[0]\n",
    "    density = sample['input'].unsqueeze(0)\n",
    "\n",
    "    prediction = model(density).detach().numpy()[0]\n",
    "    \n",
    "    prediction_list.append(prediction)\n",
    "    ratio_list.append(ratio)"
   ]
  },
  {
   "cell_type": "code",
   "execution_count": 54,
   "metadata": {},
   "outputs": [
    {
     "name": "stdout",
     "output_type": "stream",
     "text": [
      "0.5381356\n"
     ]
    }
   ],
   "source": [
    "print(ratio)"
   ]
  },
  {
   "cell_type": "code",
   "execution_count": 55,
   "metadata": {},
   "outputs": [
    {
     "name": "stdout",
     "output_type": "stream",
     "text": [
      "id=0\n",
      "[0.34087065]\n",
      "0.15677966\n",
      "\n",
      "id=1\n",
      "[0.32924786]\n",
      "0.15677966\n",
      "\n",
      "id=2\n",
      "[0.43594235]\n",
      "0.15677966\n",
      "\n",
      "id=3\n",
      "[0.42827216]\n",
      "0.15677966\n",
      "\n",
      "id=4\n",
      "[0.30176613]\n",
      "0.15677966\n",
      "\n",
      "id=5\n",
      "[0.42815796]\n",
      "0.15677966\n",
      "\n",
      "id=6\n",
      "[0.39992845]\n",
      "0.15677966\n",
      "\n",
      "id=7\n",
      "[0.68010294]\n",
      "0.15677966\n",
      "\n",
      "id=8\n",
      "[0.38511077]\n",
      "0.15677966\n",
      "\n",
      "id=9\n",
      "[0.5554012]\n",
      "0.41525424\n",
      "\n",
      "id=10\n",
      "[0.4749612]\n",
      "0.41525424\n",
      "\n",
      "id=11\n",
      "[0.3939532]\n",
      "0.41525424\n",
      "\n",
      "id=12\n",
      "[0.52753127]\n",
      "0.41525424\n",
      "\n",
      "id=13\n",
      "[0.5927434]\n",
      "0.41525424\n",
      "\n",
      "id=14\n",
      "[0.447746]\n",
      "0.41525424\n",
      "\n",
      "id=15\n",
      "[0.2990576]\n",
      "0.41525424\n",
      "\n",
      "id=16\n",
      "[0.42408952]\n",
      "0.41525424\n",
      "\n",
      "id=17\n",
      "[0.54311687]\n",
      "0.41525424\n",
      "\n",
      "id=18\n",
      "[0.4129675]\n",
      "0.20762712\n",
      "\n",
      "id=19\n",
      "[0.5156837]\n",
      "0.20762712\n",
      "\n",
      "id=20\n",
      "[0.4479364]\n",
      "0.20762712\n",
      "\n",
      "id=21\n",
      "[0.3766271]\n",
      "0.20762712\n",
      "\n",
      "id=22\n",
      "[0.29427916]\n",
      "0.20762712\n",
      "\n",
      "id=23\n",
      "[0.69824696]\n",
      "0.20762712\n",
      "\n",
      "id=24\n",
      "[0.46036127]\n",
      "0.20762712\n",
      "\n",
      "id=25\n",
      "[0.4421493]\n",
      "0.20762712\n",
      "\n",
      "id=26\n",
      "[0.41529232]\n",
      "0.20762712\n",
      "\n",
      "id=27\n",
      "[0.4129612]\n",
      "0.90677965\n",
      "\n",
      "id=28\n",
      "[0.267922]\n",
      "0.90677965\n",
      "\n",
      "id=29\n",
      "[0.3635356]\n",
      "0.90677965\n",
      "\n",
      "id=30\n",
      "[0.39280364]\n",
      "0.90677965\n",
      "\n",
      "id=31\n",
      "[0.40105015]\n",
      "0.90677965\n",
      "\n",
      "id=32\n",
      "[0.39196151]\n",
      "0.90677965\n",
      "\n",
      "id=33\n",
      "[0.38761142]\n",
      "0.90677965\n",
      "\n",
      "id=34\n",
      "[0.35237926]\n",
      "0.90677965\n",
      "\n",
      "id=35\n",
      "[0.31173676]\n",
      "0.90677965\n",
      "\n",
      "id=36\n",
      "[0.52541983]\n",
      "0.1440678\n",
      "\n",
      "id=37\n",
      "[0.45857063]\n",
      "0.1440678\n",
      "\n",
      "id=38\n",
      "[0.5244136]\n",
      "0.1440678\n",
      "\n",
      "id=39\n",
      "[0.31997788]\n",
      "0.1440678\n",
      "\n",
      "id=40\n",
      "[0.2534741]\n",
      "0.1440678\n",
      "\n",
      "id=41\n",
      "[0.5665184]\n",
      "0.1440678\n",
      "\n",
      "id=42\n",
      "[0.40550506]\n",
      "0.1440678\n",
      "\n",
      "id=43\n",
      "[0.5013789]\n",
      "0.1440678\n",
      "\n",
      "id=44\n",
      "[0.5284395]\n",
      "0.1440678\n",
      "\n",
      "id=45\n",
      "[0.69148993]\n",
      "0.016949153\n",
      "\n",
      "id=46\n",
      "[0.39505792]\n",
      "0.016949153\n",
      "\n",
      "id=47\n",
      "[0.7334875]\n",
      "0.016949153\n",
      "\n",
      "id=48\n",
      "[0.43431887]\n",
      "0.016949153\n",
      "\n",
      "id=49\n",
      "[0.61062574]\n",
      "0.016949153\n",
      "\n",
      "id=50\n",
      "[0.6501608]\n",
      "0.016949153\n",
      "\n",
      "id=51\n",
      "[0.5652174]\n",
      "0.016949153\n",
      "\n",
      "id=52\n",
      "[0.3740621]\n",
      "0.016949153\n",
      "\n",
      "id=53\n",
      "[0.7036948]\n",
      "0.016949153\n",
      "\n",
      "id=54\n",
      "[0.6406312]\n",
      "0.9661017\n",
      "\n",
      "id=55\n",
      "[0.35473865]\n",
      "0.9661017\n",
      "\n",
      "id=56\n",
      "[0.775283]\n",
      "0.9661017\n",
      "\n",
      "id=57\n",
      "[0.50531673]\n",
      "0.9661017\n",
      "\n",
      "id=58\n",
      "[0.4629942]\n",
      "0.9661017\n",
      "\n",
      "id=59\n",
      "[0.3546015]\n",
      "0.9661017\n",
      "\n",
      "id=60\n",
      "[0.6232425]\n",
      "0.9661017\n",
      "\n",
      "id=61\n",
      "[0.68151975]\n",
      "0.9661017\n",
      "\n",
      "id=62\n",
      "[0.54259634]\n",
      "0.9661017\n",
      "\n",
      "id=63\n",
      "[0.5847]\n",
      "0.9618644\n",
      "\n",
      "id=64\n",
      "[0.40869078]\n",
      "0.9618644\n",
      "\n",
      "id=65\n",
      "[0.7418822]\n",
      "0.9618644\n",
      "\n",
      "id=66\n",
      "[0.4648681]\n",
      "0.9618644\n",
      "\n",
      "id=67\n",
      "[0.5296838]\n",
      "0.9618644\n",
      "\n",
      "id=68\n",
      "[0.54754144]\n",
      "0.9618644\n",
      "\n",
      "id=69\n",
      "[0.55416095]\n",
      "0.9618644\n",
      "\n",
      "id=70\n",
      "[0.41025832]\n",
      "0.9618644\n",
      "\n",
      "id=71\n",
      "[0.6113967]\n",
      "0.9618644\n",
      "\n",
      "id=72\n",
      "[0.50592697]\n",
      "0.7161017\n",
      "\n",
      "id=73\n",
      "[0.41572776]\n",
      "0.7161017\n",
      "\n",
      "id=74\n",
      "[0.5417607]\n",
      "0.7161017\n",
      "\n",
      "id=75\n",
      "[0.4683915]\n",
      "0.7161017\n",
      "\n",
      "id=76\n",
      "[0.5287951]\n",
      "0.7161017\n",
      "\n",
      "id=77\n",
      "[0.6689297]\n",
      "0.7161017\n",
      "\n",
      "id=78\n",
      "[0.63437235]\n",
      "0.7161017\n",
      "\n",
      "id=79\n",
      "[0.70113254]\n",
      "0.7161017\n",
      "\n",
      "id=80\n",
      "[0.47764617]\n",
      "0.7161017\n",
      "\n",
      "id=81\n",
      "[0.32313794]\n",
      "0.5381356\n",
      "\n",
      "id=82\n",
      "[0.46204403]\n",
      "0.5381356\n",
      "\n",
      "id=83\n",
      "[0.5633317]\n",
      "0.5381356\n",
      "\n",
      "id=84\n",
      "[0.36253452]\n",
      "0.5381356\n",
      "\n",
      "id=85\n",
      "[0.522964]\n",
      "0.5381356\n",
      "\n",
      "id=86\n",
      "[0.59549904]\n",
      "0.5381356\n",
      "\n",
      "id=87\n",
      "[0.5629904]\n",
      "0.5381356\n",
      "\n",
      "id=88\n",
      "[0.34939736]\n",
      "0.5381356\n",
      "\n",
      "id=89\n",
      "[0.4909828]\n",
      "0.5381356\n",
      "\n"
     ]
    }
   ],
   "source": [
    "for i in range(test_dataset_size):\n",
    "    print(\"id={}\".format(i))\n",
    "    print(prediction_list[i])\n",
    "    print(ratio_list[i])\n",
    "    print()"
   ]
  },
  {
   "cell_type": "markdown",
   "metadata": {},
   "source": [
    "# Evaluation metrics"
   ]
  },
  {
   "cell_type": "code",
   "execution_count": 56,
   "metadata": {},
   "outputs": [],
   "source": [
    "pred = np.array(prediction_list)\n",
    "truth = np.array(ratio_list)"
   ]
  },
  {
   "cell_type": "markdown",
   "metadata": {},
   "source": [
    "### Compute the MSE"
   ]
  },
  {
   "cell_type": "code",
   "execution_count": 57,
   "metadata": {},
   "outputs": [
    {
     "name": "stdout",
     "output_type": "stream",
     "text": [
      "0.13640451\n"
     ]
    }
   ],
   "source": [
    "mse = np.mean((pred - truth)**2)\n",
    "print(mse)"
   ]
  },
  {
   "cell_type": "markdown",
   "metadata": {},
   "source": [
    "### Compute the RMSE"
   ]
  },
  {
   "cell_type": "code",
   "execution_count": 58,
   "metadata": {},
   "outputs": [
    {
     "name": "stdout",
     "output_type": "stream",
     "text": [
      "0.3693298\n"
     ]
    }
   ],
   "source": [
    "rmse = np.sqrt(np.mean((pred - truth)**2))\n",
    "print(rmse)"
   ]
  },
  {
   "cell_type": "markdown",
   "metadata": {},
   "source": [
    "### Compute the MAE"
   ]
  },
  {
   "cell_type": "code",
   "execution_count": null,
   "metadata": {},
   "outputs": [],
   "source": [
    "mae = np.mean(np.abs(pred - truth))\n",
    "print(mae)"
   ]
  }
 ],
 "metadata": {
  "kernelspec": {
   "display_name": "Python 3",
   "language": "python",
   "name": "python3"
  },
  "language_info": {
   "codemirror_mode": {
    "name": "ipython",
    "version": 3
   },
   "file_extension": ".py",
   "mimetype": "text/x-python",
   "name": "python",
   "nbconvert_exporter": "python",
   "pygments_lexer": "ipython3",
   "version": "3.8.2"
  }
 },
 "nbformat": 4,
 "nbformat_minor": 4
}
